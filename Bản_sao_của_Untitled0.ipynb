{
  "nbformat": 4,
  "nbformat_minor": 0,
  "metadata": {
    "colab": {
      "name": "Bản sao của Untitled0.ipynb",
      "provenance": [],
      "authorship_tag": "ABX9TyPwy4V0yj8ELdJGCFwecjH4",
      "include_colab_link": true
    },
    "kernelspec": {
      "name": "python3",
      "display_name": "Python 3"
    },
    "language_info": {
      "name": "python"
    }
  },
  "cells": [
    {
      "cell_type": "markdown",
      "metadata": {
        "id": "view-in-github",
        "colab_type": "text"
      },
      "source": [
        "<a href=\"https://colab.research.google.com/github/viett887g/huiggu/blob/main/B%E1%BA%A3n_sao_c%E1%BB%A7a_Untitled0.ipynb\" target=\"_parent\"><img src=\"https://colab.research.google.com/assets/colab-badge.svg\" alt=\"Open In Colab\"/></a>"
      ]
    },
    {
      "cell_type": "code",
      "metadata": {
        "id": "BT1J-gBE_QB0"
      },
      "source": [
        "bai-tap(chuong 2)"
      ],
      "execution_count": null,
      "outputs": []
    },
    {
      "cell_type": "code",
      "metadata": {
        "colab": {
          "base_uri": "https://localhost:8080/"
        },
        "id": "yJDkbBMoBFAe",
        "outputId": "7d9c7bd2-2780-4496-9af1-d8aa24a32b8b"
      },
      "source": [
        "a = input(\"a=\")\n",
        "b= input(\"b=\")\n",
        "a = int(a)\n",
        "b= int(b)\n",
        "c=a+b\n",
        "d=a*b\n",
        "e=a-b\n",
        "print(\"a+b\",c)\n",
        "print(\"a*b\",d)\n",
        "print(\"a-b\",e)"
      ],
      "execution_count": 1,
      "outputs": [
        {
          "output_type": "stream",
          "name": "stdout",
          "text": [
            "a=4\n",
            "b=2\n",
            "a+b 6\n",
            "a*b 8\n",
            "a-b 2\n"
          ]
        }
      ]
    }
  ]
}