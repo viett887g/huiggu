{
  "nbformat": 4,
  "nbformat_minor": 0,
  "metadata": {
    "colab": {
      "name": "bai 2",
      "provenance": [],
      "authorship_tag": "ABX9TyPwy4V0yj8ELdJGCFwecjH4",
      "include_colab_link": true
    },
    "kernelspec": {
      "name": "python3",
      "display_name": "Python 3"
    },
    "language_info": {
      "name": "python"
    }
  },
  "cells": [
    {
      "cell_type": "markdown",
      "metadata": {
        "id": "view-in-github",
        "colab_type": "text"
      },
      "source": [
        "<a href=\"https://colab.research.google.com/github/viett887g/huiggu/blob/main/bai_2.ipynb\" target=\"_parent\"><img src=\"https://colab.research.google.com/assets/colab-badge.svg\" alt=\"Open In Colab\"/></a>"
      ]
    },
    {
      "cell_type": "code",
      "metadata": {
        "id": "fq3UIFDhXuEN"
      },
      "source": [
        "bai-tap(chuong 2)"
      ],
      "execution_count": null,
      "outputs": []
    },
    {
      "cell_type": "code",
      "metadata": {
        "colab": {
          "base_uri": "https://localhost:8080/"
        },
        "id": "gSv4l7ozYrGB",
        "outputId": "868d6f02-cfa9-450b-b039-30098bdba6e4"
      },
      "source": [
        "a = input(\"a=\")\n",
        "b= input(\"b=\")\n",
        "a = int(a)\n",
        "b= int(b)\n",
        "c=a+b\n",
        "d=a*b\n",
        "e=a-b\n",
        "print(\"a+b\",c)\n",
        "print(\"a*b\",d)\n",
        "print(\"a-b\",e)"
      ],
      "execution_count": 7,
      "outputs": [
        {
          "output_type": "stream",
          "name": "stdout",
          "text": [
            "a=-3\n",
            "b=1\n",
            "a+b -2\n",
            "a*b -3\n",
            "a-b -4\n"
          ]
        }
      ]
    }
  ]
}